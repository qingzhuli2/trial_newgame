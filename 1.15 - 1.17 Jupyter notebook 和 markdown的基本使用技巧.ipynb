{
 "cells": [
  {
   "cell_type": "code",
   "execution_count": null,
   "metadata": {},
   "outputs": [],
   "source": [
    "以下操作要在编辑框外空白处或ESC\n",
    "- 向上增加空白cell--> A\n",
    "- 向下增加空白cell--> B\n",
    "- 运行cell，并将光标移动到下一个cell--> shift+enter\n",
    "- 运行cell，--> ctrl+enter\n",
    "- 删除本cell，--> DD\n",
    "- 剪切--> X\n",
    "- 粘贴 --> V\n",
    "- 将cell转为代码状态 --> Y\n",
    "- 将cell转为markdown状态 --> M\n",
    "- 打开/关闭行号-->L\n",
    "- 恢复删除的最后一个cell -->Z \n",
    "- 选中代码整体左移/右移--> tab/shift+tab"
   ]
  },
  {
   "cell_type": "markdown",
   "metadata": {},
   "source": [
    "以下操作要在编辑框外空白处或ESC\n",
    "- 向上增加空白cell--> A\n",
    "- 向下增加空白cell--> B\n",
    "- 运行cell，并将光标移动到下一个cell--> shift+enter\n",
    "- 运行cell，--> ctrl+enter\n",
    "- 删除本cell，--> DD\n",
    "- 剪切--> X\n",
    "- 粘贴 --> V\n",
    "- 将cell转为代码状态 --> Y\n",
    "- 将cell转为markdown状态 --> M\n",
    "- 打开/关闭行号-->L\n",
    "- 恢复删除的最后一个cell -->Z\n",
    "- 选中代码整体左移/右移--> ctrl+"
   ]
  },
  {
   "cell_type": "markdown",
   "metadata": {},
   "source": [
    "## 标题\n",
    "\n",
    "#\n",
    "##\n",
    "###\n",
    "####\n",
    "- **黑体** 两颗星**夹着\n",
    "- *斜体* 一颗星夹*着\n",
    "- 引用一段话 用大于号 \n",
    "> 于是引用一首诗\n",
    "\n",
    "* 列出点点要打一个星和空格"
   ]
  },
  {
   "cell_type": "markdown",
   "metadata": {},
   "source": [
    "1. 啊\n",
    "2. 啊啊"
   ]
  },
  {
   "cell_type": "markdown",
   "metadata": {},
   "source": [
    "插入数学符号 Latex\n",
    "\n",
    "$e^(i\\pi)+1=0$\n",
    "\n",
    "$ \\sum_{\\forall i)(x_i^(2)}$\n",
    "\n",
    "$ \\pi$\n",
    "\n",
    "\\begin{align}\n",
    "\\dot{x} & = \\sigma(y-x) \\\\\n",
    "\\dot{y} & = \\rho x-y-xz \\\\\n",
    "\\dot{z} & = -\\beta z + xy\n",
    "\\end{align}\n",
    "\n",
    "\\begin{equation*}\n",
    "\\left(\\sum_{k=1}^n a_k b_k \\right)^2 \\leq\\left(\\sum_{k=1}^n a_k^2 \\right)\\left(\\sum_{k=1}^n b_k^2\\right)\n",
    "\\end{equation*}\n",
    "\n",
    "[更多小抄](https://reu.dimacs.rutgers.edu/Symbols.pdf)\n"
   ]
  },
  {
   "cell_type": "markdown",
   "metadata": {},
   "source": [
    "插入图片第一种写法"
   ]
  },
  {
   "cell_type": "markdown",
   "metadata": {},
   "source": [
    "![无所谓](https://cdn.cubegoal.com/app_static/images/championship/upload/ddf819e8f3dd513fb5d837a7444d5e598cbfc88e.gif)"
   ]
  },
  {
   "cell_type": "markdown",
   "metadata": {},
   "source": [
    "插入图片第二种写法"
   ]
  },
  {
   "cell_type": "markdown",
   "metadata": {},
   "source": [
    "<img src='./spacex.jpg',width=200>"
   ]
  },
  {
   "cell_type": "markdown",
   "metadata": {},
   "source": [
    "插入图片第三种写法"
   ]
  },
  {
   "cell_type": "markdown",
   "metadata": {},
   "source": [
    "from IPython.display import Image\n",
    "Image(filename='.spacex.jpg',width=200)"
   ]
  },
  {
   "cell_type": "markdown",
   "metadata": {},
   "source": [
    "插入表格\n",
    "\n",
    "|第一栏 | 第二栏  | 第三栏 |\n",
    "|:----------|:--------------------- |\n",
    "|col 3 is   |right-aligned | 1600 \n",
    "|col 2 is| centered |12|\n",
    "|zebra stripes| are neat|1|\n"
   ]
  }
 ],
 "metadata": {
  "kernelspec": {
   "display_name": "Python 3",
   "language": "python",
   "name": "python3"
  },
  "language_info": {
   "codemirror_mode": {
    "name": "ipython",
    "version": 3
   },
   "file_extension": ".py",
   "mimetype": "text/x-python",
   "name": "python",
   "nbconvert_exporter": "python",
   "pygments_lexer": "ipython3",
   "version": "3.6.5"
  }
 },
 "nbformat": 4,
 "nbformat_minor": 2
}
