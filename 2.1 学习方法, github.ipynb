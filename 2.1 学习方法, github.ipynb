{
 "cells": [
  {
   "cell_type": "markdown",
   "metadata": {},
   "source": [
    "## 学习方法\n",
    "1. Mendeley\n",
    "    * 视频\n",
    "        - 网易云课堂，coursera (stanford)，Udacity\n",
    "    * 教科书\n",
    "        - 周志华老师《机器学习》\n",
    "        - Ian Goodfellow 《深度学习》*deep learning*\n",
    "        - W.Mckinney 《Python for data analysis》\n",
    "    * paper\n",
    "        - Dynamic Routing Between Capsules https://arxiv.org/abs/1710.09829\n",
    "            https://arxiv.org/pdf/1710.09829.pdf\n",
    "        - Gradient-based learning applied to document recognition \n",
    "           https://ieeexplore.ieee.org/document/726791\n",
    "        - Deep Neural Networks for YouTube Recommendations http://doi.org/10.1145/2959100.2959190\n",
    "        https://dl.acm.org/citation.cfm?doid=2959100.2959190\n",
    "        - The EM Algorithm http://doi.org/10.1007/978-3-642-21551-3_6\n",
    "2. github\n",
    "    1. 安装github for windows, 注册账户\n",
    "    2. 基本命令\n",
    "        - git init, 建一个新的repository\n",
    "        - git clone 克隆一个repository\n",
    "        - git add 加入新的内容到缓存区\n",
    "        - git commit 实际提交改动 （从缓存区到代码库）\n",
    "        - git push 推送改动到远端\n",
    "        - git checkout -b 做一个分支branch\n",
    "        - git pull 获取并合并远端的版本 (fetch+merge)\n",
    "        - git merge 合并其他版本，遇到冲突怎么办？\n",
    "        - git log 查看记录\n",
    "       \n",
    "       [参考资料](https://guides.github.com/)\n",
    "        \n",
    "        工作区，暂存区，代码库\n",
    "        \n",
    "        \n",
    "        \n",
    "3. 好好上网\n",
    "    - stackoverflow\n",
    "    - 知乎\n",
    "    - csdn 比如说 支持向量机的三重境界\n"
   ]
  },
  {
   "cell_type": "markdown",
   "metadata": {},
   "source": [
    "## Github 上手练\n",
    "\n",
    "### step 1. 建立新的repository （本机，远端）\n",
    "- 从0开始，git init开始\n",
    "\n",
    "本机建立repository：在命令行中新建一个文件夹，进入文件夹后，使用git init进行初始化\n",
    "\n",
    "> mkdir newgame\n",
    "\n",
    "> cd newgame\n",
    "\n",
    "> git init\n"
   ]
  },
  {
   "cell_type": "markdown",
   "metadata": {},
   "source": [
    "## 统计基础\n",
    "1. 均值\n",
    "2. 方差\n",
    "3. 大数定理\n",
    "4. 中心极限定理\n",
    "5. 假设检验\n",
    "6. p-value 定义"
   ]
  },
  {
   "cell_type": "code",
   "execution_count": null,
   "metadata": {},
   "outputs": [],
   "source": []
  }
 ],
 "metadata": {
  "kernelspec": {
   "display_name": "Python 3",
   "language": "python",
   "name": "python3"
  },
  "language_info": {
   "codemirror_mode": {
    "name": "ipython",
    "version": 3
   },
   "file_extension": ".py",
   "mimetype": "text/x-python",
   "name": "python",
   "nbconvert_exporter": "python",
   "pygments_lexer": "ipython3",
   "version": "3.6.5"
  }
 },
 "nbformat": 4,
 "nbformat_minor": 2
}
